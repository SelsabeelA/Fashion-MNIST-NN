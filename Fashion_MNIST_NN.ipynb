{
  "nbformat": 4,
  "nbformat_minor": 0,
  "metadata": {
    "colab": {
      "provenance": [],
      "gpuType": "V28"
    },
    "kernelspec": {
      "name": "python3",
      "display_name": "Python 3"
    },
    "language_info": {
      "name": "python"
    },
    "accelerator": "TPU"
  },
  "cells": [
    {
      "cell_type": "markdown",
      "source": [
        "Supervised Assignment 5\n",
        "\n",
        "Basma Mahmoud Hashem, 20210091\n",
        "\n",
        "Selsabeel Asim Ali Elbagir, 20210714\n",
        "\n",
        "Abdelrahman Mohamed Ali, 20210518"
      ],
      "metadata": {
        "id": "77ft1ilBSYc6"
      }
    },
    {
      "cell_type": "markdown",
      "source": [
        "## Import Dataset"
      ],
      "metadata": {
        "id": "RcEbKESESUSL"
      }
    },
    {
      "cell_type": "code",
      "execution_count": 1,
      "metadata": {
        "id": "ZKmwoPq3X7o8"
      },
      "outputs": [],
      "source": [
        "import tensorflow as tf\n",
        "from tensorflow import keras\n",
        "import numpy as np\n",
        "import cv2\n",
        "from tensorflow.keras.models import Sequential\n",
        "from tensorflow.keras.layers import Flatten, Dense, Dropout, Conv2D, MaxPooling2D\n",
        "from tensorflow.keras.optimizers import SGD, Adam\n",
        "import matplotlib.pyplot as plt\n"
      ]
    },
    {
      "cell_type": "code",
      "source": [
        "# Set seed for reproducibility\n",
        "tf.random.set_seed(42)\n",
        "np.random.seed(42)\n",
        "\n",
        "dataset = keras.datasets.fashion_mnist\n",
        "\n",
        "(X_train, Y_train), (X_test, Y_test) = dataset.load_data()"
      ],
      "metadata": {
        "id": "bWjak5mvZnv4",
        "colab": {
          "base_uri": "https://localhost:8080/"
        },
        "outputId": "e2520f5c-e16c-46b6-fa4f-1e32c77a06a5"
      },
      "execution_count": 2,
      "outputs": [
        {
          "output_type": "stream",
          "name": "stdout",
          "text": [
            "Downloading data from https://storage.googleapis.com/tensorflow/tf-keras-datasets/train-labels-idx1-ubyte.gz\n",
            "29515/29515 [==============================] - 0s 0us/step\n",
            "Downloading data from https://storage.googleapis.com/tensorflow/tf-keras-datasets/train-images-idx3-ubyte.gz\n",
            "26421880/26421880 [==============================] - 2s 0us/step\n",
            "Downloading data from https://storage.googleapis.com/tensorflow/tf-keras-datasets/t10k-labels-idx1-ubyte.gz\n",
            "5148/5148 [==============================] - 0s 0us/step\n",
            "Downloading data from https://storage.googleapis.com/tensorflow/tf-keras-datasets/t10k-images-idx3-ubyte.gz\n",
            "4422102/4422102 [==============================] - 1s 0us/step\n"
          ]
        }
      ]
    },
    {
      "cell_type": "markdown",
      "source": [
        "## Data Preprocessing"
      ],
      "metadata": {
        "id": "7Y9oPvfS7u-V"
      }
    },
    {
      "cell_type": "markdown",
      "source": [
        "Data Scaling"
      ],
      "metadata": {
        "id": "kRAs0--_7whl"
      }
    },
    {
      "cell_type": "code",
      "source": [
        "#Normalize data to make it from 0 to 1\n",
        "X_train = X_train/255.0\n",
        "X_test = X_test/255.0\n",
        "\n",
        "\n",
        "#Standardizee data to be distributed as a bell curve with mean = 0 and standard deviation = 1\n",
        "mean_pixel = np.mean(X_train)\n",
        "std_pixel = np.std(X_train)\n",
        "# X_train_standardized = (X_train - mean_pixel) / std_pixel\n",
        "# X_test_standardized = (X_test - mean_pixel) / std_pixel"
      ],
      "metadata": {
        "id": "qLRoPSplZjQF"
      },
      "execution_count": 3,
      "outputs": []
    },
    {
      "cell_type": "markdown",
      "source": [
        "Data augmentation"
      ],
      "metadata": {
        "id": "a7ObiGlu7zRM"
      }
    },
    {
      "cell_type": "code",
      "source": [
        "from keras.preprocessing.image import ImageDataGenerator\n",
        "X_train = np.expand_dims(X_train, axis=-1)\n",
        "X_test = np.expand_dims(X_test, axis=-1)\n",
        "datagen = ImageDataGenerator(\n",
        "    rotation_range=10,\n",
        "    width_shift_range=0.1,\n",
        "    height_shift_range=0.1,\n",
        "    horizontal_flip=True,\n",
        "    zoom_range=0.1\n",
        ")\n",
        "\n",
        "datagen.fit(X_train)\n",
        "batch_size = 32\n",
        "augmented_data_generator = datagen.flow(X_train, Y_train, batch_size=batch_size)\n"
      ],
      "metadata": {
        "id": "n1gGhsCG7KEf"
      },
      "execution_count": 4,
      "outputs": []
    },
    {
      "cell_type": "code",
      "source": [
        "# print(X_train.shape)   ----> (60000, 28, 28, 1)\n",
        "# print(X_test.shape)    ----> (10000, 28, 28, 1)\n",
        "\n",
        "# Remove the last dimension with size 1\n",
        "X_train = np.squeeze(X_train)\n",
        "X_test = np.squeeze(X_test)\n",
        "\n",
        "# print(X_train.shape)   ----> (60000, 28, 28)\n",
        "# print(X_test.shape)    ----> (10000, 28, 28)"
      ],
      "metadata": {
        "id": "qM5VNkXWZ7R4"
      },
      "execution_count": 5,
      "outputs": []
    },
    {
      "cell_type": "code",
      "source": [
        "input_shape = (28,28)"
      ],
      "metadata": {
        "id": "oXtGKnaiaFB_"
      },
      "execution_count": 6,
      "outputs": []
    },
    {
      "cell_type": "markdown",
      "source": [
        "## Models"
      ],
      "metadata": {
        "id": "_akiOXfv3mgs"
      }
    },
    {
      "cell_type": "code",
      "source": [
        "# layer_sizes:          512, 256, 64\n",
        "# activation_functions: relu\n",
        "# regularizer_rate :    0.0\n",
        "# dropout_rate:         0.3\n",
        "\n",
        "model3 = Sequential([\n",
        "    Flatten(input_shape=input_shape),\n",
        "    Dense(units=512, activation='relu'),\n",
        "    Dropout(rate=0.3),\n",
        "    Dense(units=256, activation='relu'),\n",
        "    Dropout(rate=0.3),\n",
        "    Dense(units=64, activation='relu'),\n",
        "    Dropout(rate=0.3),\n",
        "    Dense(units=10, activation='softmax')\n",
        "])\n"
      ],
      "metadata": {
        "id": "fy5O5H52bePw"
      },
      "execution_count": 10,
      "outputs": []
    },
    {
      "cell_type": "code",
      "source": [
        "# layer_sizes:          512, 256, 64\n",
        "# activation_functions: tanh\n",
        "# regularizer_rate :    0.0\n",
        "# dropout_rate:         0.3\n",
        "\n",
        "model4 = Sequential([\n",
        "    Flatten(input_shape=input_shape),\n",
        "    Dense(units=512, activation='tanh'),\n",
        "    Dropout(rate=0.3),\n",
        "    Dense(units=256, activation='tanh'),\n",
        "    Dropout(rate=0.3),\n",
        "    Dense(units=64, activation='tanh'),\n",
        "    Dropout(rate=0.3),\n",
        "    Dense(units=10, activation='softmax')\n",
        "])"
      ],
      "metadata": {
        "id": "i1Yks13My0gu"
      },
      "execution_count": 11,
      "outputs": []
    },
    {
      "cell_type": "code",
      "source": [
        "# layer_sizes:          256, 128, 64\n",
        "# activation_functions: sigmoid\n",
        "# regularizer_rate :    0.0\n",
        "# dropout_rate:         0.2 and 0.3\n",
        "\n",
        "model5 = Sequential([\n",
        "    Flatten(input_shape=input_shape),\n",
        "    Dense(units=256, activation='sigmoid'),\n",
        "    Dropout(rate=0.2),\n",
        "    Dense(units=128, activation='sigmoid'),\n",
        "    Dropout(rate=0.3),\n",
        "    Dense(units=64, activation='sigmoid'),\n",
        "    Dropout(rate=0.2),\n",
        "    Dense(units=10, activation='softmax')\n",
        "])\n"
      ],
      "metadata": {
        "id": "SPvbGlwmbuOE"
      },
      "execution_count": 12,
      "outputs": []
    },
    {
      "cell_type": "code",
      "source": [
        "# layer_sizes:          128, 64\n",
        "# activation_functions: relu\n",
        "# regularizer_rate :    0.0\n",
        "# dropout_rate:         0.0\n",
        "\n",
        "model6 = Sequential([\n",
        "    Flatten(input_shape=input_shape),\n",
        "    Dense(units=128, activation='relu'),\n",
        "    Dropout(rate=0.0),\n",
        "    Dense(units=64, activation='relu'),\n",
        "    Dropout(rate=0.0),\n",
        "    Dense(units=10, activation='softmax')\n",
        "])\n"
      ],
      "metadata": {
        "id": "219VnZsJTBzj"
      },
      "execution_count": 13,
      "outputs": []
    },
    {
      "cell_type": "code",
      "source": [
        "# layer_sizes:          256, 128, 64\n",
        "# activation_functions: sigmoid\n",
        "# regularizer_rate :    0.0\n",
        "# dropout_rate:         0.0\n",
        "\n",
        "model7 = Sequential([\n",
        "    Flatten(input_shape=input_shape),\n",
        "    Dense(units=256, activation='sigmoid'),\n",
        "    Dense(units=128, activation='sigmoid'),\n",
        "    Dense(units=64, activation='sigmoid'),\n",
        "    Dense(units=10, activation='softmax')\n",
        "])"
      ],
      "metadata": {
        "id": "4jdKWVh86L9D"
      },
      "execution_count": 14,
      "outputs": []
    },
    {
      "cell_type": "code",
      "source": [
        "# layer_sizes:          64, 64, 128\n",
        "# activation_functions: relu\n",
        "# regularizer_rate :    0.0\n",
        "# dropout_rate:         0.0\n",
        "\n",
        "model8 = Sequential([\n",
        "    Conv2D(64, (3, 3), activation='relu',\n",
        "    input_shape=(28, 28, 1)),\n",
        "    MaxPooling2D(2, 2),\n",
        "    Conv2D(64, (3, 3), activation='relu'),\n",
        "    MaxPooling2D(2,2),\n",
        "    Flatten(),\n",
        "    Dense(128, activation=tf.nn.relu),\n",
        "    Dense(10, activation=tf.nn.softmax)\n",
        "])"
      ],
      "metadata": {
        "id": "mftTHS46eBXV"
      },
      "execution_count": 15,
      "outputs": []
    },
    {
      "cell_type": "code",
      "source": [
        "\n",
        "model3.compile(optimizer='SGD',\n",
        "              loss='sparse_categorical_crossentropy',\n",
        "              metrics=['accuracy'])\n",
        "\n",
        "model4.compile(optimizer='adam',\n",
        "              loss='sparse_categorical_crossentropy',\n",
        "              metrics=['accuracy'])\n",
        "\n",
        "model5.compile(optimizer='SGD',\n",
        "              loss='sparse_categorical_crossentropy',\n",
        "              metrics=['accuracy'])\n",
        "\n",
        "model6.compile(optimizer='adam',\n",
        "              loss='sparse_categorical_crossentropy',\n",
        "              metrics=['accuracy'])\n",
        "\n",
        "model7.compile(optimizer='SGD',\n",
        "              loss='sparse_categorical_crossentropy',\n",
        "              metrics=['accuracy'])\n",
        "\n",
        "model8.compile(optimizer='adam',\n",
        "               loss='sparse_categorical_crossentropy',\n",
        "               metrics=['accuracy'])"
      ],
      "metadata": {
        "id": "jvem7joDcCwx"
      },
      "execution_count": 32,
      "outputs": []
    },
    {
      "cell_type": "markdown",
      "source": [
        "### Good Models"
      ],
      "metadata": {
        "id": "f8QpuaaRTId3"
      }
    },
    {
      "cell_type": "code",
      "source": [
        "# Model 3`s Test accuracy: 0.8888   SGD   + [512, 256, 64]              + ReLU    + Dropout=0.3\n",
        "# Model 4`s Test accuracy: 0.8744   Adam  + [512, 256, 64]              + Tanh    + Dropout=0.3\n",
        "# Model 5`s Test accuracy: 0.7807   SGD   + [256, 128, 64]              + Sigmoid + Dropout=0.2, 0.3\n",
        "# Model 6`s Test accuracy: 0.8895   Adam  + [128, 64]                   + ReLU\n",
        "# Model 7`s Test accuracy: 0.8327   SGD   + [256, 128, 64]              + Sigmoid\n",
        "# Model 8`s Test accuracy: 0.9024   Adam  + [Conv2D 64, Conv2D 64, 128] + ReLU"
      ],
      "metadata": {
        "id": "rowLmKe5MXZx"
      },
      "execution_count": 30,
      "outputs": []
    },
    {
      "cell_type": "code",
      "source": [
        "model3.fit(X_train, Y_train, epochs=40, batch_size=32 , validation_split= 0.1)\n",
        "\n",
        "_, test_accuracy3 = model3.evaluate(X_test, Y_test)\n",
        "print('Model 3`s Test accuracy:', test_accuracy3)"
      ],
      "metadata": {
        "colab": {
          "base_uri": "https://localhost:8080/"
        },
        "id": "rd9bVgBDcNiW",
        "outputId": "b6df9001-9e1f-4553-846c-329c38cb6b5c"
      },
      "execution_count": 21,
      "outputs": [
        {
          "output_type": "stream",
          "name": "stdout",
          "text": [
            "Epoch 1/40\n",
            "1688/1688 [==============================] - 13s 8ms/step - loss: 0.5610 - accuracy: 0.8027 - val_loss: 0.4467 - val_accuracy: 0.8328\n",
            "Epoch 2/40\n",
            "1688/1688 [==============================] - 13s 7ms/step - loss: 0.5069 - accuracy: 0.8217 - val_loss: 0.4113 - val_accuracy: 0.8480\n",
            "Epoch 3/40\n",
            "1688/1688 [==============================] - 13s 8ms/step - loss: 0.4771 - accuracy: 0.8311 - val_loss: 0.3929 - val_accuracy: 0.8593\n",
            "Epoch 4/40\n",
            "1688/1688 [==============================] - 13s 7ms/step - loss: 0.4492 - accuracy: 0.8425 - val_loss: 0.3909 - val_accuracy: 0.8548\n",
            "Epoch 5/40\n",
            "1688/1688 [==============================] - 13s 8ms/step - loss: 0.4349 - accuracy: 0.8475 - val_loss: 0.3670 - val_accuracy: 0.8630\n",
            "Epoch 6/40\n",
            "1688/1688 [==============================] - 13s 8ms/step - loss: 0.4182 - accuracy: 0.8524 - val_loss: 0.3744 - val_accuracy: 0.8663\n",
            "Epoch 7/40\n",
            "1688/1688 [==============================] - 13s 8ms/step - loss: 0.4059 - accuracy: 0.8571 - val_loss: 0.3540 - val_accuracy: 0.8662\n",
            "Epoch 8/40\n",
            "1688/1688 [==============================] - 13s 8ms/step - loss: 0.3939 - accuracy: 0.8611 - val_loss: 0.3471 - val_accuracy: 0.8723\n",
            "Epoch 9/40\n",
            "1688/1688 [==============================] - 13s 8ms/step - loss: 0.3833 - accuracy: 0.8641 - val_loss: 0.3488 - val_accuracy: 0.8760\n",
            "Epoch 10/40\n",
            "1688/1688 [==============================] - 13s 8ms/step - loss: 0.3747 - accuracy: 0.8665 - val_loss: 0.3402 - val_accuracy: 0.8767\n",
            "Epoch 11/40\n",
            "1688/1688 [==============================] - 13s 8ms/step - loss: 0.3679 - accuracy: 0.8717 - val_loss: 0.3384 - val_accuracy: 0.8778\n",
            "Epoch 12/40\n",
            "1688/1688 [==============================] - 13s 8ms/step - loss: 0.3606 - accuracy: 0.8719 - val_loss: 0.3413 - val_accuracy: 0.8767\n",
            "Epoch 13/40\n",
            "1688/1688 [==============================] - 13s 8ms/step - loss: 0.3552 - accuracy: 0.8741 - val_loss: 0.3261 - val_accuracy: 0.8815\n",
            "Epoch 14/40\n",
            "1688/1688 [==============================] - 13s 8ms/step - loss: 0.3495 - accuracy: 0.8767 - val_loss: 0.3280 - val_accuracy: 0.8842\n",
            "Epoch 15/40\n",
            "1688/1688 [==============================] - 13s 8ms/step - loss: 0.3391 - accuracy: 0.8797 - val_loss: 0.3262 - val_accuracy: 0.8805\n",
            "Epoch 16/40\n",
            "1688/1688 [==============================] - 13s 8ms/step - loss: 0.3357 - accuracy: 0.8807 - val_loss: 0.3146 - val_accuracy: 0.8845\n",
            "Epoch 17/40\n",
            "1688/1688 [==============================] - 13s 8ms/step - loss: 0.3299 - accuracy: 0.8832 - val_loss: 0.3119 - val_accuracy: 0.8855\n",
            "Epoch 18/40\n",
            "1688/1688 [==============================] - 13s 8ms/step - loss: 0.3251 - accuracy: 0.8836 - val_loss: 0.3213 - val_accuracy: 0.8835\n",
            "Epoch 19/40\n",
            "1688/1688 [==============================] - 13s 8ms/step - loss: 0.3191 - accuracy: 0.8853 - val_loss: 0.3197 - val_accuracy: 0.8852\n",
            "Epoch 20/40\n",
            "1688/1688 [==============================] - 13s 8ms/step - loss: 0.3148 - accuracy: 0.8870 - val_loss: 0.3082 - val_accuracy: 0.8860\n",
            "Epoch 21/40\n",
            "1688/1688 [==============================] - 13s 8ms/step - loss: 0.3097 - accuracy: 0.8871 - val_loss: 0.3066 - val_accuracy: 0.8908\n",
            "Epoch 22/40\n",
            "1688/1688 [==============================] - 13s 8ms/step - loss: 0.3081 - accuracy: 0.8908 - val_loss: 0.3137 - val_accuracy: 0.8830\n",
            "Epoch 23/40\n",
            "1688/1688 [==============================] - 13s 8ms/step - loss: 0.3051 - accuracy: 0.8919 - val_loss: 0.3061 - val_accuracy: 0.8845\n",
            "Epoch 24/40\n",
            "1688/1688 [==============================] - 13s 7ms/step - loss: 0.2974 - accuracy: 0.8928 - val_loss: 0.3078 - val_accuracy: 0.8875\n",
            "Epoch 25/40\n",
            "1688/1688 [==============================] - 13s 8ms/step - loss: 0.2958 - accuracy: 0.8942 - val_loss: 0.3067 - val_accuracy: 0.8880\n",
            "Epoch 26/40\n",
            "1688/1688 [==============================] - 13s 8ms/step - loss: 0.2911 - accuracy: 0.8954 - val_loss: 0.3016 - val_accuracy: 0.8902\n",
            "Epoch 27/40\n",
            "1688/1688 [==============================] - 13s 8ms/step - loss: 0.2855 - accuracy: 0.8959 - val_loss: 0.3064 - val_accuracy: 0.8870\n",
            "Epoch 28/40\n",
            "1688/1688 [==============================] - 13s 8ms/step - loss: 0.2830 - accuracy: 0.8984 - val_loss: 0.3117 - val_accuracy: 0.8868\n",
            "Epoch 29/40\n",
            "1688/1688 [==============================] - 13s 8ms/step - loss: 0.2835 - accuracy: 0.8979 - val_loss: 0.3040 - val_accuracy: 0.8903\n",
            "Epoch 30/40\n",
            "1688/1688 [==============================] - 13s 8ms/step - loss: 0.2767 - accuracy: 0.9013 - val_loss: 0.2993 - val_accuracy: 0.8900\n",
            "Epoch 31/40\n",
            "1688/1688 [==============================] - 13s 8ms/step - loss: 0.2746 - accuracy: 0.8999 - val_loss: 0.3050 - val_accuracy: 0.8912\n",
            "Epoch 32/40\n",
            "1688/1688 [==============================] - 13s 8ms/step - loss: 0.2691 - accuracy: 0.9007 - val_loss: 0.2958 - val_accuracy: 0.8910\n",
            "Epoch 33/40\n",
            "1688/1688 [==============================] - 13s 8ms/step - loss: 0.2686 - accuracy: 0.9023 - val_loss: 0.3069 - val_accuracy: 0.8915\n",
            "Epoch 34/40\n",
            "1688/1688 [==============================] - 16s 9ms/step - loss: 0.2674 - accuracy: 0.9037 - val_loss: 0.3031 - val_accuracy: 0.8930\n",
            "Epoch 35/40\n",
            "1688/1688 [==============================] - 14s 8ms/step - loss: 0.2617 - accuracy: 0.9054 - val_loss: 0.2993 - val_accuracy: 0.8912\n",
            "Epoch 36/40\n",
            "1688/1688 [==============================] - 13s 8ms/step - loss: 0.2577 - accuracy: 0.9063 - val_loss: 0.3035 - val_accuracy: 0.8892\n",
            "Epoch 37/40\n",
            "1688/1688 [==============================] - 13s 8ms/step - loss: 0.2571 - accuracy: 0.9069 - val_loss: 0.2975 - val_accuracy: 0.8947\n",
            "Epoch 38/40\n",
            "1688/1688 [==============================] - 13s 8ms/step - loss: 0.2533 - accuracy: 0.9083 - val_loss: 0.3015 - val_accuracy: 0.8907\n",
            "Epoch 39/40\n",
            "1688/1688 [==============================] - 13s 8ms/step - loss: 0.2515 - accuracy: 0.9092 - val_loss: 0.2953 - val_accuracy: 0.8922\n",
            "Epoch 40/40\n",
            "1688/1688 [==============================] - 13s 8ms/step - loss: 0.2498 - accuracy: 0.9091 - val_loss: 0.3005 - val_accuracy: 0.8958\n",
            "313/313 [==============================] - 1s 3ms/step - loss: 0.3223 - accuracy: 0.8889\n",
            "Model 3`s Test accuracy: 0.8888999819755554\n"
          ]
        }
      ]
    },
    {
      "cell_type": "code",
      "source": [
        "model4.fit(X_train, Y_train, epochs=40, batch_size=32 , validation_split= 0.1)\n",
        "\n",
        "_, test_accuracy4 = model4.evaluate(X_test, Y_test)\n",
        "print('Model 4`s Test accuracy:', test_accuracy4)"
      ],
      "metadata": {
        "colab": {
          "base_uri": "https://localhost:8080/"
        },
        "id": "j-_4gTxa3OK1",
        "outputId": "90bdf0c2-b890-4ddf-8aa0-6f6698539c5a"
      },
      "execution_count": 22,
      "outputs": [
        {
          "output_type": "stream",
          "name": "stdout",
          "text": [
            "Epoch 1/40\n",
            "1688/1688 [==============================] - 19s 11ms/step - loss: 0.6189 - accuracy: 0.7801 - val_loss: 0.4518 - val_accuracy: 0.8348\n",
            "Epoch 2/40\n",
            "1688/1688 [==============================] - 20s 12ms/step - loss: 0.4866 - accuracy: 0.8288 - val_loss: 0.4200 - val_accuracy: 0.8483\n",
            "Epoch 3/40\n",
            "1688/1688 [==============================] - 18s 11ms/step - loss: 0.4539 - accuracy: 0.8394 - val_loss: 0.4013 - val_accuracy: 0.8557\n",
            "Epoch 4/40\n",
            "1688/1688 [==============================] - 19s 11ms/step - loss: 0.4366 - accuracy: 0.8450 - val_loss: 0.3782 - val_accuracy: 0.8632\n",
            "Epoch 5/40\n",
            "1688/1688 [==============================] - 18s 11ms/step - loss: 0.4277 - accuracy: 0.8483 - val_loss: 0.4092 - val_accuracy: 0.8510\n",
            "Epoch 6/40\n",
            "1688/1688 [==============================] - 18s 11ms/step - loss: 0.4144 - accuracy: 0.8552 - val_loss: 0.3759 - val_accuracy: 0.8682\n",
            "Epoch 7/40\n",
            "1688/1688 [==============================] - 18s 11ms/step - loss: 0.4092 - accuracy: 0.8552 - val_loss: 0.4149 - val_accuracy: 0.8427\n",
            "Epoch 8/40\n",
            "1688/1688 [==============================] - 18s 11ms/step - loss: 0.4019 - accuracy: 0.8594 - val_loss: 0.3703 - val_accuracy: 0.8635\n",
            "Epoch 9/40\n",
            "1688/1688 [==============================] - 19s 11ms/step - loss: 0.3945 - accuracy: 0.8616 - val_loss: 0.3659 - val_accuracy: 0.8693\n",
            "Epoch 10/40\n",
            "1688/1688 [==============================] - 18s 11ms/step - loss: 0.3940 - accuracy: 0.8623 - val_loss: 0.3586 - val_accuracy: 0.8720\n",
            "Epoch 11/40\n",
            "1688/1688 [==============================] - 19s 11ms/step - loss: 0.3901 - accuracy: 0.8630 - val_loss: 0.3635 - val_accuracy: 0.8690\n",
            "Epoch 12/40\n",
            "1688/1688 [==============================] - 18s 10ms/step - loss: 0.3886 - accuracy: 0.8621 - val_loss: 0.3667 - val_accuracy: 0.8702\n",
            "Epoch 13/40\n",
            "1688/1688 [==============================] - 18s 11ms/step - loss: 0.3833 - accuracy: 0.8652 - val_loss: 0.3553 - val_accuracy: 0.8762\n",
            "Epoch 14/40\n",
            "1688/1688 [==============================] - 19s 11ms/step - loss: 0.3795 - accuracy: 0.8656 - val_loss: 0.3493 - val_accuracy: 0.8757\n",
            "Epoch 15/40\n",
            "1688/1688 [==============================] - 18s 11ms/step - loss: 0.3781 - accuracy: 0.8674 - val_loss: 0.3537 - val_accuracy: 0.8762\n",
            "Epoch 16/40\n",
            "1688/1688 [==============================] - 19s 11ms/step - loss: 0.3736 - accuracy: 0.8683 - val_loss: 0.3517 - val_accuracy: 0.8755\n",
            "Epoch 17/40\n",
            "1688/1688 [==============================] - 18s 11ms/step - loss: 0.3743 - accuracy: 0.8681 - val_loss: 0.3480 - val_accuracy: 0.8772\n",
            "Epoch 18/40\n",
            "1688/1688 [==============================] - 18s 11ms/step - loss: 0.3745 - accuracy: 0.8689 - val_loss: 0.3449 - val_accuracy: 0.8805\n",
            "Epoch 19/40\n",
            "1688/1688 [==============================] - 19s 11ms/step - loss: 0.3731 - accuracy: 0.8681 - val_loss: 0.3573 - val_accuracy: 0.8750\n",
            "Epoch 20/40\n",
            "1688/1688 [==============================] - 18s 11ms/step - loss: 0.3700 - accuracy: 0.8698 - val_loss: 0.3632 - val_accuracy: 0.8712\n",
            "Epoch 21/40\n",
            "1688/1688 [==============================] - 19s 11ms/step - loss: 0.3693 - accuracy: 0.8702 - val_loss: 0.3592 - val_accuracy: 0.8745\n",
            "Epoch 22/40\n",
            "1688/1688 [==============================] - 18s 11ms/step - loss: 0.3655 - accuracy: 0.8721 - val_loss: 0.3480 - val_accuracy: 0.8807\n",
            "Epoch 23/40\n",
            "1688/1688 [==============================] - 19s 11ms/step - loss: 0.3631 - accuracy: 0.8726 - val_loss: 0.3479 - val_accuracy: 0.8733\n",
            "Epoch 24/40\n",
            "1688/1688 [==============================] - 18s 11ms/step - loss: 0.3661 - accuracy: 0.8713 - val_loss: 0.3405 - val_accuracy: 0.8755\n",
            "Epoch 25/40\n",
            "1688/1688 [==============================] - 18s 10ms/step - loss: 0.3627 - accuracy: 0.8724 - val_loss: 0.3572 - val_accuracy: 0.8782\n",
            "Epoch 26/40\n",
            "1688/1688 [==============================] - 19s 11ms/step - loss: 0.3604 - accuracy: 0.8735 - val_loss: 0.3471 - val_accuracy: 0.8772\n",
            "Epoch 27/40\n",
            "1688/1688 [==============================] - 18s 11ms/step - loss: 0.3622 - accuracy: 0.8744 - val_loss: 0.3509 - val_accuracy: 0.8795\n",
            "Epoch 28/40\n",
            "1688/1688 [==============================] - 19s 11ms/step - loss: 0.3593 - accuracy: 0.8743 - val_loss: 0.3570 - val_accuracy: 0.8780\n",
            "Epoch 29/40\n",
            "1688/1688 [==============================] - 18s 11ms/step - loss: 0.3581 - accuracy: 0.8746 - val_loss: 0.3569 - val_accuracy: 0.8777\n",
            "Epoch 30/40\n",
            "1688/1688 [==============================] - 18s 10ms/step - loss: 0.3559 - accuracy: 0.8751 - val_loss: 0.3498 - val_accuracy: 0.8748\n",
            "Epoch 31/40\n",
            "1688/1688 [==============================] - 19s 11ms/step - loss: 0.3545 - accuracy: 0.8764 - val_loss: 0.3464 - val_accuracy: 0.8785\n",
            "Epoch 32/40\n",
            "1688/1688 [==============================] - 18s 10ms/step - loss: 0.3538 - accuracy: 0.8748 - val_loss: 0.3512 - val_accuracy: 0.8758\n",
            "Epoch 33/40\n",
            "1688/1688 [==============================] - 18s 11ms/step - loss: 0.3539 - accuracy: 0.8756 - val_loss: 0.3518 - val_accuracy: 0.8792\n",
            "Epoch 34/40\n",
            "1688/1688 [==============================] - 22s 13ms/step - loss: 0.3522 - accuracy: 0.8761 - val_loss: 0.3538 - val_accuracy: 0.8782\n",
            "Epoch 35/40\n",
            "1688/1688 [==============================] - 19s 11ms/step - loss: 0.3507 - accuracy: 0.8768 - val_loss: 0.3569 - val_accuracy: 0.8770\n",
            "Epoch 36/40\n",
            "1688/1688 [==============================] - 18s 11ms/step - loss: 0.3520 - accuracy: 0.8759 - val_loss: 0.3465 - val_accuracy: 0.8803\n",
            "Epoch 37/40\n",
            "1688/1688 [==============================] - 19s 11ms/step - loss: 0.3511 - accuracy: 0.8777 - val_loss: 0.3517 - val_accuracy: 0.8808\n",
            "Epoch 38/40\n",
            "1688/1688 [==============================] - 18s 11ms/step - loss: 0.3531 - accuracy: 0.8761 - val_loss: 0.3459 - val_accuracy: 0.8777\n",
            "Epoch 39/40\n",
            "1688/1688 [==============================] - 18s 11ms/step - loss: 0.3488 - accuracy: 0.8778 - val_loss: 0.3504 - val_accuracy: 0.8802\n",
            "Epoch 40/40\n",
            "1688/1688 [==============================] - 19s 11ms/step - loss: 0.3504 - accuracy: 0.8769 - val_loss: 0.3535 - val_accuracy: 0.8777\n",
            "313/313 [==============================] - 1s 4ms/step - loss: 0.3717 - accuracy: 0.8745\n",
            "Model 4`s Test accuracy: 0.8744999766349792\n"
          ]
        }
      ]
    },
    {
      "cell_type": "code",
      "source": [
        "model5.fit(X_train, Y_train, epochs=40, batch_size=32 , validation_split= 0.1)\n",
        "\n",
        "_, test_accuracy5 = model5.evaluate(X_test, Y_test)\n",
        "print('Model 5`s Test accuracy:', test_accuracy5)"
      ],
      "metadata": {
        "colab": {
          "base_uri": "https://localhost:8080/"
        },
        "id": "rLOKQ_Eudkdf",
        "outputId": "ea7cdb10-b673-4bc4-f448-a714f6c346da"
      },
      "execution_count": 23,
      "outputs": [
        {
          "output_type": "stream",
          "name": "stdout",
          "text": [
            "Epoch 1/40\n",
            "1688/1688 [==============================] - 10s 6ms/step - loss: 2.3314 - accuracy: 0.1066 - val_loss: 2.2741 - val_accuracy: 0.1647\n",
            "Epoch 2/40\n",
            "1688/1688 [==============================] - 11s 7ms/step - loss: 2.2773 - accuracy: 0.1386 - val_loss: 2.2042 - val_accuracy: 0.3870\n",
            "Epoch 3/40\n",
            "1688/1688 [==============================] - 11s 7ms/step - loss: 2.1016 - accuracy: 0.2257 - val_loss: 1.8297 - val_accuracy: 0.4135\n",
            "Epoch 4/40\n",
            "1688/1688 [==============================] - 12s 7ms/step - loss: 1.7045 - accuracy: 0.3286 - val_loss: 1.4677 - val_accuracy: 0.5113\n",
            "Epoch 5/40\n",
            "1688/1688 [==============================] - 9s 5ms/step - loss: 1.4496 - accuracy: 0.4106 - val_loss: 1.2694 - val_accuracy: 0.5480\n",
            "Epoch 6/40\n",
            "1688/1688 [==============================] - 10s 6ms/step - loss: 1.3028 - accuracy: 0.4740 - val_loss: 1.1554 - val_accuracy: 0.5757\n",
            "Epoch 7/40\n",
            "1688/1688 [==============================] - 9s 6ms/step - loss: 1.2128 - accuracy: 0.5134 - val_loss: 1.0810 - val_accuracy: 0.5817\n",
            "Epoch 8/40\n",
            "1688/1688 [==============================] - 10s 6ms/step - loss: 1.1513 - accuracy: 0.5385 - val_loss: 1.0292 - val_accuracy: 0.5992\n",
            "Epoch 9/40\n",
            "1688/1688 [==============================] - 9s 5ms/step - loss: 1.1056 - accuracy: 0.5571 - val_loss: 0.9857 - val_accuracy: 0.6097\n",
            "Epoch 10/40\n",
            "1688/1688 [==============================] - 10s 6ms/step - loss: 1.0661 - accuracy: 0.5759 - val_loss: 0.9487 - val_accuracy: 0.6263\n",
            "Epoch 11/40\n",
            "1688/1688 [==============================] - 10s 6ms/step - loss: 1.0341 - accuracy: 0.5882 - val_loss: 0.9184 - val_accuracy: 0.6435\n",
            "Epoch 12/40\n",
            "1688/1688 [==============================] - 9s 5ms/step - loss: 0.9998 - accuracy: 0.6028 - val_loss: 0.8916 - val_accuracy: 0.6577\n",
            "Epoch 13/40\n",
            "1688/1688 [==============================] - 9s 5ms/step - loss: 0.9782 - accuracy: 0.6131 - val_loss: 0.8680 - val_accuracy: 0.6613\n",
            "Epoch 14/40\n",
            "1688/1688 [==============================] - 9s 6ms/step - loss: 0.9566 - accuracy: 0.6224 - val_loss: 0.8488 - val_accuracy: 0.6583\n",
            "Epoch 15/40\n",
            "1688/1688 [==============================] - 10s 6ms/step - loss: 0.9362 - accuracy: 0.6326 - val_loss: 0.8309 - val_accuracy: 0.6700\n",
            "Epoch 16/40\n",
            "1688/1688 [==============================] - 9s 5ms/step - loss: 0.9151 - accuracy: 0.6427 - val_loss: 0.8110 - val_accuracy: 0.6878\n",
            "Epoch 17/40\n",
            "1688/1688 [==============================] - 10s 6ms/step - loss: 0.8990 - accuracy: 0.6510 - val_loss: 0.7948 - val_accuracy: 0.7095\n",
            "Epoch 18/40\n",
            "1688/1688 [==============================] - 9s 6ms/step - loss: 0.8808 - accuracy: 0.6586 - val_loss: 0.7770 - val_accuracy: 0.7187\n",
            "Epoch 19/40\n",
            "1688/1688 [==============================] - 10s 6ms/step - loss: 0.8631 - accuracy: 0.6699 - val_loss: 0.7619 - val_accuracy: 0.7260\n",
            "Epoch 20/40\n",
            "1688/1688 [==============================] - 9s 5ms/step - loss: 0.8487 - accuracy: 0.6765 - val_loss: 0.7449 - val_accuracy: 0.7228\n",
            "Epoch 21/40\n",
            "1688/1688 [==============================] - 10s 6ms/step - loss: 0.8319 - accuracy: 0.6824 - val_loss: 0.7297 - val_accuracy: 0.7268\n",
            "Epoch 22/40\n",
            "1688/1688 [==============================] - 9s 6ms/step - loss: 0.8142 - accuracy: 0.6936 - val_loss: 0.7149 - val_accuracy: 0.7467\n",
            "Epoch 23/40\n",
            "1688/1688 [==============================] - 9s 5ms/step - loss: 0.7981 - accuracy: 0.6994 - val_loss: 0.7005 - val_accuracy: 0.7402\n",
            "Epoch 24/40\n",
            "1688/1688 [==============================] - 9s 6ms/step - loss: 0.7886 - accuracy: 0.7031 - val_loss: 0.6883 - val_accuracy: 0.7402\n",
            "Epoch 25/40\n",
            "1688/1688 [==============================] - 10s 6ms/step - loss: 0.7726 - accuracy: 0.7086 - val_loss: 0.6748 - val_accuracy: 0.7540\n",
            "Epoch 26/40\n",
            "1688/1688 [==============================] - 10s 6ms/step - loss: 0.7622 - accuracy: 0.7133 - val_loss: 0.6640 - val_accuracy: 0.7535\n",
            "Epoch 27/40\n",
            "1688/1688 [==============================] - 11s 6ms/step - loss: 0.7500 - accuracy: 0.7166 - val_loss: 0.6522 - val_accuracy: 0.7618\n",
            "Epoch 28/40\n",
            "1688/1688 [==============================] - 9s 5ms/step - loss: 0.7369 - accuracy: 0.7232 - val_loss: 0.6426 - val_accuracy: 0.7597\n",
            "Epoch 29/40\n",
            "1688/1688 [==============================] - 10s 6ms/step - loss: 0.7259 - accuracy: 0.7267 - val_loss: 0.6345 - val_accuracy: 0.7742\n",
            "Epoch 30/40\n",
            "1688/1688 [==============================] - 10s 6ms/step - loss: 0.7146 - accuracy: 0.7335 - val_loss: 0.6223 - val_accuracy: 0.7748\n",
            "Epoch 31/40\n",
            "1688/1688 [==============================] - 10s 6ms/step - loss: 0.7050 - accuracy: 0.7362 - val_loss: 0.6141 - val_accuracy: 0.7745\n",
            "Epoch 32/40\n",
            "1688/1688 [==============================] - 9s 5ms/step - loss: 0.6939 - accuracy: 0.7417 - val_loss: 0.6046 - val_accuracy: 0.7775\n",
            "Epoch 33/40\n",
            "1688/1688 [==============================] - 10s 6ms/step - loss: 0.6878 - accuracy: 0.7442 - val_loss: 0.5977 - val_accuracy: 0.7795\n",
            "Epoch 34/40\n",
            "1688/1688 [==============================] - 10s 6ms/step - loss: 0.6807 - accuracy: 0.7465 - val_loss: 0.5918 - val_accuracy: 0.7803\n",
            "Epoch 35/40\n",
            "1688/1688 [==============================] - 10s 6ms/step - loss: 0.6701 - accuracy: 0.7506 - val_loss: 0.5873 - val_accuracy: 0.7760\n",
            "Epoch 36/40\n",
            "1688/1688 [==============================] - 9s 5ms/step - loss: 0.6623 - accuracy: 0.7533 - val_loss: 0.5813 - val_accuracy: 0.7845\n",
            "Epoch 37/40\n",
            "1688/1688 [==============================] - 10s 6ms/step - loss: 0.6570 - accuracy: 0.7555 - val_loss: 0.5748 - val_accuracy: 0.7852\n",
            "Epoch 38/40\n",
            "1688/1688 [==============================] - 10s 6ms/step - loss: 0.6509 - accuracy: 0.7593 - val_loss: 0.5687 - val_accuracy: 0.7830\n",
            "Epoch 39/40\n",
            "1688/1688 [==============================] - 9s 5ms/step - loss: 0.6433 - accuracy: 0.7596 - val_loss: 0.5630 - val_accuracy: 0.7900\n",
            "Epoch 40/40\n",
            "1688/1688 [==============================] - 9s 5ms/step - loss: 0.6398 - accuracy: 0.7633 - val_loss: 0.5582 - val_accuracy: 0.7852\n",
            "313/313 [==============================] - 1s 3ms/step - loss: 0.5803 - accuracy: 0.7807\n",
            "Model 5`s Test accuracy: 0.7807000279426575\n"
          ]
        }
      ]
    },
    {
      "cell_type": "code",
      "source": [
        "model6.fit(X_train, Y_train, epochs=40, batch_size=32 , validation_split= 0.1)\n",
        "\n",
        "_, test_accuracy6 = model6.evaluate(X_test, Y_test)\n",
        "print('Model 6`s Test accuracy:', test_accuracy6)"
      ],
      "metadata": {
        "id": "j9Do66DRTab-",
        "colab": {
          "base_uri": "https://localhost:8080/"
        },
        "outputId": "6935d6ff-d49b-41d4-f7a9-3176ebe8c428"
      },
      "execution_count": 24,
      "outputs": [
        {
          "output_type": "stream",
          "name": "stdout",
          "text": [
            "Epoch 1/40\n",
            "1688/1688 [==============================] - 9s 5ms/step - loss: 0.5027 - accuracy: 0.8214 - val_loss: 0.3958 - val_accuracy: 0.8555\n",
            "Epoch 2/40\n",
            "1688/1688 [==============================] - 8s 5ms/step - loss: 0.3696 - accuracy: 0.8654 - val_loss: 0.3588 - val_accuracy: 0.8707\n",
            "Epoch 3/40\n",
            "1688/1688 [==============================] - 7s 4ms/step - loss: 0.3314 - accuracy: 0.8783 - val_loss: 0.3461 - val_accuracy: 0.8757\n",
            "Epoch 4/40\n",
            "1688/1688 [==============================] - 8s 5ms/step - loss: 0.3091 - accuracy: 0.8861 - val_loss: 0.3291 - val_accuracy: 0.8810\n",
            "Epoch 5/40\n",
            "1688/1688 [==============================] - 8s 5ms/step - loss: 0.2925 - accuracy: 0.8925 - val_loss: 0.3218 - val_accuracy: 0.8815\n",
            "Epoch 6/40\n",
            "1688/1688 [==============================] - 7s 4ms/step - loss: 0.2778 - accuracy: 0.8957 - val_loss: 0.3453 - val_accuracy: 0.8758\n",
            "Epoch 7/40\n",
            "1688/1688 [==============================] - 8s 5ms/step - loss: 0.2668 - accuracy: 0.8994 - val_loss: 0.3483 - val_accuracy: 0.8743\n",
            "Epoch 8/40\n",
            "1688/1688 [==============================] - 7s 4ms/step - loss: 0.2560 - accuracy: 0.9043 - val_loss: 0.3250 - val_accuracy: 0.8853\n",
            "Epoch 9/40\n",
            "1688/1688 [==============================] - 9s 5ms/step - loss: 0.2475 - accuracy: 0.9065 - val_loss: 0.3277 - val_accuracy: 0.8863\n",
            "Epoch 10/40\n",
            "1688/1688 [==============================] - 8s 5ms/step - loss: 0.2379 - accuracy: 0.9100 - val_loss: 0.3301 - val_accuracy: 0.8878\n",
            "Epoch 11/40\n",
            "1688/1688 [==============================] - 7s 4ms/step - loss: 0.2314 - accuracy: 0.9125 - val_loss: 0.3261 - val_accuracy: 0.8875\n",
            "Epoch 12/40\n",
            "1688/1688 [==============================] - 8s 5ms/step - loss: 0.2220 - accuracy: 0.9161 - val_loss: 0.3289 - val_accuracy: 0.8833\n",
            "Epoch 13/40\n",
            "1688/1688 [==============================] - 8s 4ms/step - loss: 0.2144 - accuracy: 0.9180 - val_loss: 0.3493 - val_accuracy: 0.8863\n",
            "Epoch 14/40\n",
            "1688/1688 [==============================] - 7s 4ms/step - loss: 0.2087 - accuracy: 0.9223 - val_loss: 0.3413 - val_accuracy: 0.8835\n",
            "Epoch 15/40\n",
            "1688/1688 [==============================] - 10s 6ms/step - loss: 0.2039 - accuracy: 0.9228 - val_loss: 0.3382 - val_accuracy: 0.8897\n",
            "Epoch 16/40\n",
            "1688/1688 [==============================] - 7s 4ms/step - loss: 0.1985 - accuracy: 0.9254 - val_loss: 0.3323 - val_accuracy: 0.8922\n",
            "Epoch 17/40\n",
            "1688/1688 [==============================] - 8s 5ms/step - loss: 0.1916 - accuracy: 0.9269 - val_loss: 0.3807 - val_accuracy: 0.8860\n",
            "Epoch 18/40\n",
            "1688/1688 [==============================] - 8s 5ms/step - loss: 0.1864 - accuracy: 0.9298 - val_loss: 0.3551 - val_accuracy: 0.8875\n",
            "Epoch 19/40\n",
            "1688/1688 [==============================] - 7s 4ms/step - loss: 0.1833 - accuracy: 0.9308 - val_loss: 0.3812 - val_accuracy: 0.8908\n",
            "Epoch 20/40\n",
            "1688/1688 [==============================] - 8s 5ms/step - loss: 0.1779 - accuracy: 0.9341 - val_loss: 0.3504 - val_accuracy: 0.8903\n",
            "Epoch 21/40\n",
            "1688/1688 [==============================] - 8s 5ms/step - loss: 0.1739 - accuracy: 0.9346 - val_loss: 0.3912 - val_accuracy: 0.8867\n",
            "Epoch 22/40\n",
            "1688/1688 [==============================] - 7s 4ms/step - loss: 0.1686 - accuracy: 0.9366 - val_loss: 0.3767 - val_accuracy: 0.8893\n",
            "Epoch 23/40\n",
            "1688/1688 [==============================] - 9s 5ms/step - loss: 0.1658 - accuracy: 0.9370 - val_loss: 0.3745 - val_accuracy: 0.8893\n",
            "Epoch 24/40\n",
            "1688/1688 [==============================] - 7s 4ms/step - loss: 0.1627 - accuracy: 0.9372 - val_loss: 0.3839 - val_accuracy: 0.8867\n",
            "Epoch 25/40\n",
            "1688/1688 [==============================] - 8s 5ms/step - loss: 0.1539 - accuracy: 0.9409 - val_loss: 0.4059 - val_accuracy: 0.8915\n",
            "Epoch 26/40\n",
            "1688/1688 [==============================] - 8s 5ms/step - loss: 0.1539 - accuracy: 0.9419 - val_loss: 0.3888 - val_accuracy: 0.8885\n",
            "Epoch 27/40\n",
            "1688/1688 [==============================] - 7s 4ms/step - loss: 0.1489 - accuracy: 0.9433 - val_loss: 0.4419 - val_accuracy: 0.8830\n",
            "Epoch 28/40\n",
            "1688/1688 [==============================] - 8s 5ms/step - loss: 0.1477 - accuracy: 0.9451 - val_loss: 0.4430 - val_accuracy: 0.8880\n",
            "Epoch 29/40\n",
            "1688/1688 [==============================] - 7s 4ms/step - loss: 0.1431 - accuracy: 0.9454 - val_loss: 0.4001 - val_accuracy: 0.8940\n",
            "Epoch 30/40\n",
            "1688/1688 [==============================] - 8s 5ms/step - loss: 0.1421 - accuracy: 0.9461 - val_loss: 0.4145 - val_accuracy: 0.8893\n",
            "Epoch 31/40\n",
            "1688/1688 [==============================] - 8s 5ms/step - loss: 0.1360 - accuracy: 0.9477 - val_loss: 0.4227 - val_accuracy: 0.8843\n",
            "Epoch 32/40\n",
            "1688/1688 [==============================] - 7s 4ms/step - loss: 0.1355 - accuracy: 0.9489 - val_loss: 0.4070 - val_accuracy: 0.8877\n",
            "Epoch 33/40\n",
            "1688/1688 [==============================] - 10s 6ms/step - loss: 0.1320 - accuracy: 0.9499 - val_loss: 0.4503 - val_accuracy: 0.8883\n",
            "Epoch 34/40\n",
            "1688/1688 [==============================] - 9s 6ms/step - loss: 0.1325 - accuracy: 0.9496 - val_loss: 0.4190 - val_accuracy: 0.8930\n",
            "Epoch 35/40\n",
            "1688/1688 [==============================] - 7s 4ms/step - loss: 0.1235 - accuracy: 0.9531 - val_loss: 0.4207 - val_accuracy: 0.8935\n",
            "Epoch 36/40\n",
            "1688/1688 [==============================] - 8s 5ms/step - loss: 0.1277 - accuracy: 0.9514 - val_loss: 0.4380 - val_accuracy: 0.8913\n",
            "Epoch 37/40\n",
            "1688/1688 [==============================] - 7s 4ms/step - loss: 0.1230 - accuracy: 0.9524 - val_loss: 0.4470 - val_accuracy: 0.8910\n",
            "Epoch 38/40\n",
            "1688/1688 [==============================] - 8s 5ms/step - loss: 0.1182 - accuracy: 0.9542 - val_loss: 0.4387 - val_accuracy: 0.8927\n",
            "Epoch 39/40\n",
            "1688/1688 [==============================] - 8s 5ms/step - loss: 0.1177 - accuracy: 0.9551 - val_loss: 0.4559 - val_accuracy: 0.8952\n",
            "Epoch 40/40\n",
            "1688/1688 [==============================] - 7s 4ms/step - loss: 0.1154 - accuracy: 0.9564 - val_loss: 0.4827 - val_accuracy: 0.8928\n",
            "313/313 [==============================] - 1s 2ms/step - loss: 0.5349 - accuracy: 0.8896\n",
            "Model 6`s Test accuracy: 0.8895999789237976\n"
          ]
        }
      ]
    },
    {
      "cell_type": "code",
      "source": [
        "model7.fit(X_train, Y_train, epochs=40, batch_size=32 , validation_split= 0.1)\n",
        "\n",
        "_, test_accuracy7 = model7.evaluate(X_test, Y_test)\n",
        "print('Model 7`s Test accuracy:', test_accuracy7)"
      ],
      "metadata": {
        "id": "DFK-bWG-6TWH",
        "colab": {
          "base_uri": "https://localhost:8080/"
        },
        "outputId": "a15f77f5-0f00-4749-b77d-0263c1a84c95"
      },
      "execution_count": 25,
      "outputs": [
        {
          "output_type": "stream",
          "name": "stdout",
          "text": [
            "Epoch 1/40\n",
            "1688/1688 [==============================] - 8s 4ms/step - loss: 2.2831 - accuracy: 0.1754 - val_loss: 2.2536 - val_accuracy: 0.2317\n",
            "Epoch 2/40\n",
            "1688/1688 [==============================] - 8s 5ms/step - loss: 2.1640 - accuracy: 0.3430 - val_loss: 1.9911 - val_accuracy: 0.3993\n",
            "Epoch 3/40\n",
            "1688/1688 [==============================] - 9s 5ms/step - loss: 1.7458 - accuracy: 0.4342 - val_loss: 1.5594 - val_accuracy: 0.5477\n",
            "Epoch 4/40\n",
            "1688/1688 [==============================] - 7s 4ms/step - loss: 1.4129 - accuracy: 0.5380 - val_loss: 1.2741 - val_accuracy: 0.5840\n",
            "Epoch 5/40\n",
            "1688/1688 [==============================] - 8s 5ms/step - loss: 1.1905 - accuracy: 0.5880 - val_loss: 1.1102 - val_accuracy: 0.6282\n",
            "Epoch 6/40\n",
            "1688/1688 [==============================] - 9s 5ms/step - loss: 1.0662 - accuracy: 0.6159 - val_loss: 1.0121 - val_accuracy: 0.6390\n",
            "Epoch 7/40\n",
            "1688/1688 [==============================] - 8s 5ms/step - loss: 0.9820 - accuracy: 0.6398 - val_loss: 0.9339 - val_accuracy: 0.6695\n",
            "Epoch 8/40\n",
            "1688/1688 [==============================] - 10s 6ms/step - loss: 0.9131 - accuracy: 0.6686 - val_loss: 0.8725 - val_accuracy: 0.6713\n",
            "Epoch 9/40\n",
            "1688/1688 [==============================] - 9s 5ms/step - loss: 0.8539 - accuracy: 0.6966 - val_loss: 0.8177 - val_accuracy: 0.7205\n",
            "Epoch 10/40\n",
            "1688/1688 [==============================] - 8s 5ms/step - loss: 0.8027 - accuracy: 0.7168 - val_loss: 0.7709 - val_accuracy: 0.7353\n",
            "Epoch 11/40\n",
            "1688/1688 [==============================] - 9s 5ms/step - loss: 0.7587 - accuracy: 0.7321 - val_loss: 0.7321 - val_accuracy: 0.7360\n",
            "Epoch 12/40\n",
            "1688/1688 [==============================] - 8s 5ms/step - loss: 0.7209 - accuracy: 0.7412 - val_loss: 0.6973 - val_accuracy: 0.7522\n",
            "Epoch 13/40\n",
            "1688/1688 [==============================] - 8s 5ms/step - loss: 0.6890 - accuracy: 0.7494 - val_loss: 0.6695 - val_accuracy: 0.7580\n",
            "Epoch 14/40\n",
            "1688/1688 [==============================] - 8s 5ms/step - loss: 0.6621 - accuracy: 0.7570 - val_loss: 0.6461 - val_accuracy: 0.7645\n",
            "Epoch 15/40\n",
            "1688/1688 [==============================] - 9s 5ms/step - loss: 0.6393 - accuracy: 0.7612 - val_loss: 0.6257 - val_accuracy: 0.7595\n",
            "Epoch 16/40\n",
            "1688/1688 [==============================] - 8s 5ms/step - loss: 0.6194 - accuracy: 0.7681 - val_loss: 0.6049 - val_accuracy: 0.7750\n",
            "Epoch 17/40\n",
            "1688/1688 [==============================] - 9s 5ms/step - loss: 0.6018 - accuracy: 0.7749 - val_loss: 0.5906 - val_accuracy: 0.7850\n",
            "Epoch 18/40\n",
            "1688/1688 [==============================] - 8s 5ms/step - loss: 0.5863 - accuracy: 0.7835 - val_loss: 0.5785 - val_accuracy: 0.7912\n",
            "Epoch 19/40\n",
            "1688/1688 [==============================] - 8s 5ms/step - loss: 0.5717 - accuracy: 0.7915 - val_loss: 0.5630 - val_accuracy: 0.7957\n",
            "Epoch 20/40\n",
            "1688/1688 [==============================] - 9s 5ms/step - loss: 0.5589 - accuracy: 0.7983 - val_loss: 0.5526 - val_accuracy: 0.8000\n",
            "Epoch 21/40\n",
            "1688/1688 [==============================] - 8s 5ms/step - loss: 0.5470 - accuracy: 0.8041 - val_loss: 0.5415 - val_accuracy: 0.8067\n",
            "Epoch 22/40\n",
            "1688/1688 [==============================] - 8s 5ms/step - loss: 0.5360 - accuracy: 0.8090 - val_loss: 0.5340 - val_accuracy: 0.8103\n",
            "Epoch 23/40\n",
            "1688/1688 [==============================] - 9s 5ms/step - loss: 0.5266 - accuracy: 0.8126 - val_loss: 0.5250 - val_accuracy: 0.8113\n",
            "Epoch 24/40\n",
            "1688/1688 [==============================] - 8s 4ms/step - loss: 0.5179 - accuracy: 0.8172 - val_loss: 0.5162 - val_accuracy: 0.8168\n",
            "Epoch 25/40\n",
            "1688/1688 [==============================] - 9s 5ms/step - loss: 0.5101 - accuracy: 0.8204 - val_loss: 0.5103 - val_accuracy: 0.8187\n",
            "Epoch 26/40\n",
            "1688/1688 [==============================] - 9s 5ms/step - loss: 0.5025 - accuracy: 0.8219 - val_loss: 0.5044 - val_accuracy: 0.8192\n",
            "Epoch 27/40\n",
            "1688/1688 [==============================] - 8s 4ms/step - loss: 0.4960 - accuracy: 0.8253 - val_loss: 0.4959 - val_accuracy: 0.8237\n",
            "Epoch 28/40\n",
            "1688/1688 [==============================] - 9s 5ms/step - loss: 0.4897 - accuracy: 0.8275 - val_loss: 0.4929 - val_accuracy: 0.8238\n",
            "Epoch 29/40\n",
            "1688/1688 [==============================] - 8s 5ms/step - loss: 0.4837 - accuracy: 0.8297 - val_loss: 0.4952 - val_accuracy: 0.8207\n",
            "Epoch 30/40\n",
            "1688/1688 [==============================] - 8s 5ms/step - loss: 0.4786 - accuracy: 0.8309 - val_loss: 0.4821 - val_accuracy: 0.8283\n",
            "Epoch 31/40\n",
            "1688/1688 [==============================] - 8s 5ms/step - loss: 0.4736 - accuracy: 0.8321 - val_loss: 0.4792 - val_accuracy: 0.8310\n",
            "Epoch 32/40\n",
            "1688/1688 [==============================] - 9s 5ms/step - loss: 0.4688 - accuracy: 0.8348 - val_loss: 0.4711 - val_accuracy: 0.8288\n",
            "Epoch 33/40\n",
            "1688/1688 [==============================] - 8s 5ms/step - loss: 0.4642 - accuracy: 0.8367 - val_loss: 0.4717 - val_accuracy: 0.8313\n",
            "Epoch 34/40\n",
            "1688/1688 [==============================] - 9s 5ms/step - loss: 0.4598 - accuracy: 0.8379 - val_loss: 0.4699 - val_accuracy: 0.8343\n",
            "Epoch 35/40\n",
            "1688/1688 [==============================] - 9s 5ms/step - loss: 0.4553 - accuracy: 0.8399 - val_loss: 0.4647 - val_accuracy: 0.8340\n",
            "Epoch 36/40\n",
            "1688/1688 [==============================] - 8s 5ms/step - loss: 0.4518 - accuracy: 0.8404 - val_loss: 0.4599 - val_accuracy: 0.8342\n",
            "Epoch 37/40\n",
            "1688/1688 [==============================] - 9s 5ms/step - loss: 0.4480 - accuracy: 0.8418 - val_loss: 0.4570 - val_accuracy: 0.8362\n",
            "Epoch 38/40\n",
            "1688/1688 [==============================] - 9s 5ms/step - loss: 0.4441 - accuracy: 0.8441 - val_loss: 0.4517 - val_accuracy: 0.8372\n",
            "Epoch 39/40\n",
            "1688/1688 [==============================] - 8s 5ms/step - loss: 0.4406 - accuracy: 0.8447 - val_loss: 0.4460 - val_accuracy: 0.8383\n",
            "Epoch 40/40\n",
            "1688/1688 [==============================] - 9s 5ms/step - loss: 0.4367 - accuracy: 0.8468 - val_loss: 0.4470 - val_accuracy: 0.8393\n",
            "313/313 [==============================] - 1s 2ms/step - loss: 0.4756 - accuracy: 0.8328\n",
            "Model 7`s Test accuracy: 0.8327999711036682\n"
          ]
        }
      ]
    },
    {
      "cell_type": "code",
      "source": [
        "model8.fit(X_train, Y_train, epochs=40, batch_size=32 , validation_split= 0.1)\n",
        "\n",
        "_, test_accuracy8 = model8.evaluate(X_test, Y_test)\n",
        "print('Model 8`s Test accuracy:', test_accuracy8)"
      ],
      "metadata": {
        "id": "XEjOhZCaewAF",
        "colab": {
          "base_uri": "https://localhost:8080/"
        },
        "outputId": "c45e6f4d-3b4a-4157-a1d0-6949fd0ecd8b"
      },
      "execution_count": 26,
      "outputs": [
        {
          "output_type": "stream",
          "name": "stdout",
          "text": [
            "Epoch 1/40\n",
            "1688/1688 [==============================] - 82s 48ms/step - loss: 0.4503 - accuracy: 0.8364 - val_loss: 0.3307 - val_accuracy: 0.8797\n",
            "Epoch 2/40\n",
            "1688/1688 [==============================] - 80s 47ms/step - loss: 0.3012 - accuracy: 0.8889 - val_loss: 0.2781 - val_accuracy: 0.8992\n",
            "Epoch 3/40\n",
            "1688/1688 [==============================] - 79s 47ms/step - loss: 0.2564 - accuracy: 0.9053 - val_loss: 0.2572 - val_accuracy: 0.9040\n",
            "Epoch 4/40\n",
            "1688/1688 [==============================] - 83s 49ms/step - loss: 0.2231 - accuracy: 0.9167 - val_loss: 0.2424 - val_accuracy: 0.9107\n",
            "Epoch 5/40\n",
            "1688/1688 [==============================] - 78s 46ms/step - loss: 0.1972 - accuracy: 0.9260 - val_loss: 0.2399 - val_accuracy: 0.9125\n",
            "Epoch 6/40\n",
            "1688/1688 [==============================] - 79s 47ms/step - loss: 0.1711 - accuracy: 0.9353 - val_loss: 0.2443 - val_accuracy: 0.9132\n",
            "Epoch 7/40\n",
            "1688/1688 [==============================] - 78s 46ms/step - loss: 0.1531 - accuracy: 0.9422 - val_loss: 0.2568 - val_accuracy: 0.9120\n",
            "Epoch 8/40\n",
            "1688/1688 [==============================] - 77s 46ms/step - loss: 0.1351 - accuracy: 0.9493 - val_loss: 0.2604 - val_accuracy: 0.9103\n",
            "Epoch 9/40\n",
            "1688/1688 [==============================] - 80s 47ms/step - loss: 0.1182 - accuracy: 0.9550 - val_loss: 0.2555 - val_accuracy: 0.9175\n",
            "Epoch 10/40\n",
            "1688/1688 [==============================] - 79s 47ms/step - loss: 0.1029 - accuracy: 0.9616 - val_loss: 0.2610 - val_accuracy: 0.9170\n",
            "Epoch 11/40\n",
            "1688/1688 [==============================] - 78s 46ms/step - loss: 0.0912 - accuracy: 0.9647 - val_loss: 0.2894 - val_accuracy: 0.9143\n",
            "Epoch 12/40\n",
            "1688/1688 [==============================] - 79s 47ms/step - loss: 0.0818 - accuracy: 0.9684 - val_loss: 0.3262 - val_accuracy: 0.9128\n",
            "Epoch 13/40\n",
            "1688/1688 [==============================] - 79s 47ms/step - loss: 0.0684 - accuracy: 0.9742 - val_loss: 0.3316 - val_accuracy: 0.9170\n",
            "Epoch 14/40\n",
            "1688/1688 [==============================] - 79s 47ms/step - loss: 0.0653 - accuracy: 0.9749 - val_loss: 0.3470 - val_accuracy: 0.9137\n",
            "Epoch 15/40\n",
            "1688/1688 [==============================] - 79s 47ms/step - loss: 0.0540 - accuracy: 0.9794 - val_loss: 0.3950 - val_accuracy: 0.9075\n",
            "Epoch 16/40\n",
            "1688/1688 [==============================] - 79s 47ms/step - loss: 0.0510 - accuracy: 0.9806 - val_loss: 0.4435 - val_accuracy: 0.9127\n",
            "Epoch 17/40\n",
            "1688/1688 [==============================] - 93s 55ms/step - loss: 0.0457 - accuracy: 0.9829 - val_loss: 0.4230 - val_accuracy: 0.9085\n",
            "Epoch 18/40\n",
            "1688/1688 [==============================] - 85s 50ms/step - loss: 0.0452 - accuracy: 0.9831 - val_loss: 0.4252 - val_accuracy: 0.9147\n",
            "Epoch 19/40\n",
            "1688/1688 [==============================] - 78s 47ms/step - loss: 0.0396 - accuracy: 0.9855 - val_loss: 0.4643 - val_accuracy: 0.9118\n",
            "Epoch 20/40\n",
            "1688/1688 [==============================] - 79s 47ms/step - loss: 0.0367 - accuracy: 0.9867 - val_loss: 0.4642 - val_accuracy: 0.9128\n",
            "Epoch 21/40\n",
            "1688/1688 [==============================] - 80s 47ms/step - loss: 0.0366 - accuracy: 0.9861 - val_loss: 0.4543 - val_accuracy: 0.9088\n",
            "Epoch 22/40\n",
            "1688/1688 [==============================] - 79s 47ms/step - loss: 0.0323 - accuracy: 0.9882 - val_loss: 0.4840 - val_accuracy: 0.9140\n",
            "Epoch 23/40\n",
            "1688/1688 [==============================] - 78s 46ms/step - loss: 0.0292 - accuracy: 0.9892 - val_loss: 0.5062 - val_accuracy: 0.9088\n",
            "Epoch 24/40\n",
            "1688/1688 [==============================] - 78s 46ms/step - loss: 0.0282 - accuracy: 0.9894 - val_loss: 0.5482 - val_accuracy: 0.9085\n",
            "Epoch 25/40\n",
            "1688/1688 [==============================] - 78s 46ms/step - loss: 0.0273 - accuracy: 0.9906 - val_loss: 0.6112 - val_accuracy: 0.9127\n",
            "Epoch 26/40\n",
            "1688/1688 [==============================] - 80s 47ms/step - loss: 0.0283 - accuracy: 0.9903 - val_loss: 0.5548 - val_accuracy: 0.9112\n",
            "Epoch 27/40\n",
            "1688/1688 [==============================] - 78s 46ms/step - loss: 0.0236 - accuracy: 0.9916 - val_loss: 0.6003 - val_accuracy: 0.9100\n",
            "Epoch 28/40\n",
            "1688/1688 [==============================] - 78s 46ms/step - loss: 0.0281 - accuracy: 0.9903 - val_loss: 0.5921 - val_accuracy: 0.9137\n",
            "Epoch 29/40\n",
            "1688/1688 [==============================] - 79s 47ms/step - loss: 0.0263 - accuracy: 0.9911 - val_loss: 0.5978 - val_accuracy: 0.9112\n",
            "Epoch 30/40\n",
            "1688/1688 [==============================] - 78s 46ms/step - loss: 0.0179 - accuracy: 0.9934 - val_loss: 0.6184 - val_accuracy: 0.9058\n",
            "Epoch 31/40\n",
            "1688/1688 [==============================] - 78s 46ms/step - loss: 0.0235 - accuracy: 0.9917 - val_loss: 0.6540 - val_accuracy: 0.9058\n",
            "Epoch 32/40\n",
            "1688/1688 [==============================] - 78s 46ms/step - loss: 0.0255 - accuracy: 0.9911 - val_loss: 0.6282 - val_accuracy: 0.9110\n",
            "Epoch 33/40\n",
            "1688/1688 [==============================] - 79s 47ms/step - loss: 0.0210 - accuracy: 0.9927 - val_loss: 0.6593 - val_accuracy: 0.9112\n",
            "Epoch 34/40\n",
            "1688/1688 [==============================] - 78s 46ms/step - loss: 0.0200 - accuracy: 0.9929 - val_loss: 0.6660 - val_accuracy: 0.9133\n",
            "Epoch 35/40\n",
            "1688/1688 [==============================] - 78s 46ms/step - loss: 0.0214 - accuracy: 0.9929 - val_loss: 0.6876 - val_accuracy: 0.9127\n",
            "Epoch 36/40\n",
            "1688/1688 [==============================] - 78s 46ms/step - loss: 0.0273 - accuracy: 0.9909 - val_loss: 0.7227 - val_accuracy: 0.9100\n",
            "Epoch 37/40\n",
            "1688/1688 [==============================] - 79s 47ms/step - loss: 0.0168 - accuracy: 0.9943 - val_loss: 0.7930 - val_accuracy: 0.9113\n",
            "Epoch 38/40\n",
            "1688/1688 [==============================] - 79s 47ms/step - loss: 0.0206 - accuracy: 0.9929 - val_loss: 0.7120 - val_accuracy: 0.9060\n",
            "Epoch 39/40\n",
            "1688/1688 [==============================] - 78s 46ms/step - loss: 0.0223 - accuracy: 0.9924 - val_loss: 0.7436 - val_accuracy: 0.9132\n",
            "Epoch 40/40\n",
            "1688/1688 [==============================] - 78s 46ms/step - loss: 0.0146 - accuracy: 0.9953 - val_loss: 0.7360 - val_accuracy: 0.9092\n",
            "313/313 [==============================] - 5s 16ms/step - loss: 0.8417 - accuracy: 0.9025\n",
            "Model 8`s Test accuracy: 0.9024999737739563\n"
          ]
        }
      ]
    },
    {
      "cell_type": "code",
      "source": [
        "\n",
        "class_names = [\n",
        "    \"T-shirt/top\", \"Trouser\", \"Pullover\", \"Dress\", \"Coat\",\n",
        "    \"Sandal\", \"Shirt\", \"Sneaker\", \"Bag\", \"Ankle boot\"\n",
        "]\n",
        "\n",
        "\n",
        "def plot(test_data, test_labels, predict_labels):\n",
        "    '''\n",
        "    Takes test data, their corresponding actual labels, and their predicted labels.\n",
        "    It shows randomly three samples of the test data and its actual and predicted label.\n",
        "    '''\n",
        "    num_images = test_data.shape[0]\n",
        "    random_indices = np.random.choice(num_images, 3, replace=False) # random positions\n",
        "\n",
        "    fig, axes = plt.subplots(1, 3, figsize=(12, 4))\n",
        "\n",
        "    for i, idx in enumerate(random_indices):\n",
        "        image = test_data[idx]\n",
        "        actual_label = class_names[test_labels[idx]]\n",
        "        predicted_label = class_names[predict_labels[idx]]\n",
        "\n",
        "        axes[i].imshow(image, cmap='gray')\n",
        "        axes[i].set_title(f\"Actual: {actual_label}\\nPredicted: {predicted_label}\")\n",
        "        axes[i].axis('off')\n",
        "\n",
        "    plt.tight_layout()\n",
        "    plt.show()"
      ],
      "metadata": {
        "id": "715eT4DIRSdY"
      },
      "execution_count": 27,
      "outputs": []
    },
    {
      "cell_type": "code",
      "source": [
        "\n",
        "def show_summary(test_data, test_labels, *models):\n",
        "  '''\n",
        "  looping through all models to compare the accuracy between them.\n",
        "  For each model, the function prints the summary of its architecture and calls the polt function on its predictions.\n",
        "  '''\n",
        "\n",
        "  for model in models:\n",
        "    model.summary()\n",
        "    predict_probs = model.predict(test_data)\n",
        "    predict_labels = np.argmax(predict_probs, axis=-1)  # choose label with highest probability\n",
        "    plot(test_data, test_labels, predict_labels)\n",
        "\n",
        "show_summary(X_test , Y_test , model3, model4 , model5 , model6 , model7 , model8)"
      ],
      "metadata": {
        "id": "TaUck_BvRT5_",
        "colab": {
          "base_uri": "https://localhost:8080/",
          "height": 1000
        },
        "outputId": "48239512-f928-40a6-dc9b-e98402c6aa9d"
      },
      "execution_count": 28,
      "outputs": [
        {
          "output_type": "stream",
          "name": "stdout",
          "text": [
            "Model: \"sequential\"\n",
            "_________________________________________________________________\n",
            " Layer (type)                Output Shape              Param #   \n",
            "=================================================================\n",
            " flatten (Flatten)           (None, 784)               0         \n",
            "                                                                 \n",
            " dense (Dense)               (None, 512)               401920    \n",
            "                                                                 \n",
            " dropout (Dropout)           (None, 512)               0         \n",
            "                                                                 \n",
            " dense_1 (Dense)             (None, 256)               131328    \n",
            "                                                                 \n",
            " dropout_1 (Dropout)         (None, 256)               0         \n",
            "                                                                 \n",
            " dense_2 (Dense)             (None, 64)                16448     \n",
            "                                                                 \n",
            " dropout_2 (Dropout)         (None, 64)                0         \n",
            "                                                                 \n",
            " dense_3 (Dense)             (None, 10)                650       \n",
            "                                                                 \n",
            "=================================================================\n",
            "Total params: 550346 (2.10 MB)\n",
            "Trainable params: 550346 (2.10 MB)\n",
            "Non-trainable params: 0 (0.00 Byte)\n",
            "_________________________________________________________________\n",
            "313/313 [==============================] - 1s 3ms/step\n"
          ]
        },
        {
          "output_type": "display_data",
          "data": {
            "text/plain": [
              "<Figure size 1200x400 with 3 Axes>"
            ],
            "image/png": "[encoded data removed]"
          },
          "metadata": {}
        },
        {
          "output_type": "stream",
          "name": "stdout",
          "text": [
            "Model: \"sequential_1\"\n",
            "_________________________________________________________________\n",
            " Layer (type)                Output Shape              Param #   \n",
            "=================================================================\n",
            " flatten_1 (Flatten)         (None, 784)               0         \n",
            "                                                                 \n",
            " dense_4 (Dense)             (None, 512)               401920    \n",
            "                                                                 \n",
            " dropout_3 (Dropout)         (None, 512)               0         \n",
            "                                                                 \n",
            " dense_5 (Dense)             (None, 256)               131328    \n",
            "                                                                 \n",
            " dropout_4 (Dropout)         (None, 256)               0         \n",
            "                                                                 \n",
            " dense_6 (Dense)             (None, 64)                16448     \n",
            "                                                                 \n",
            " dropout_5 (Dropout)         (None, 64)                0         \n",
            "                                                                 \n",
            " dense_7 (Dense)             (None, 10)                650       \n",
            "                                                                 \n",
            "=================================================================\n",
            "Total params: 550346 (2.10 MB)\n",
            "Trainable params: 550346 (2.10 MB)\n",
            "Non-trainable params: 0 (0.00 Byte)\n",
            "_________________________________________________________________\n",
            "313/313 [==============================] - 2s 5ms/step\n"
          ]
        },
        {
          "output_type": "display_data",
          "data": {
            "text/plain": [
              "<Figure size 1200x400 with 3 Axes>"
            ],
            "image/png": "[encoded data removed]"
          },
          "metadata": {}
        },
        {
          "output_type": "stream",
          "name": "stdout",
          "text": [
            "Model: \"sequential_2\"\n",
            "_________________________________________________________________\n",
            " Layer (type)                Output Shape              Param #   \n",
            "=================================================================\n",
            " flatten_2 (Flatten)         (None, 784)               0         \n",
            "                                                                 \n",
            " dense_8 (Dense)             (None, 256)               200960    \n",
            "                                                                 \n",
            " dropout_6 (Dropout)         (None, 256)               0         \n",
            "                                                                 \n",
            " dense_9 (Dense)             (None, 128)               32896     \n",
            "                                                                 \n",
            " dropout_7 (Dropout)         (None, 128)               0         \n",
            "                                                                 \n",
            " dense_10 (Dense)            (None, 64)                8256      \n",
            "                                                                 \n",
            " dropout_8 (Dropout)         (None, 64)                0         \n",
            "                                                                 \n",
            " dense_11 (Dense)            (None, 10)                650       \n",
            "                                                                 \n",
            "=================================================================\n",
            "Total params: 242762 (948.29 KB)\n",
            "Trainable params: 242762 (948.29 KB)\n",
            "Non-trainable params: 0 (0.00 Byte)\n",
            "_________________________________________________________________\n",
            "313/313 [==============================] - 1s 2ms/step\n"
          ]
        },
        {
          "output_type": "display_data",
          "data": {
            "text/plain": [
              "<Figure size 1200x400 with 3 Axes>"
            ],
            "image/png": "[encoded data removed]"
          },
          "metadata": {}
        },
        {
          "output_type": "stream",
          "name": "stdout",
          "text": [
            "Model: \"sequential_3\"\n",
            "_________________________________________________________________\n",
            " Layer (type)                Output Shape              Param #   \n",
            "=================================================================\n",
            " flatten_3 (Flatten)         (None, 784)               0         \n",
            "                                                                 \n",
            " dense_12 (Dense)            (None, 128)               100480    \n",
            "                                                                 \n",
            " dropout_9 (Dropout)         (None, 128)               0         \n",
            "                                                                 \n",
            " dense_13 (Dense)            (None, 64)                8256      \n",
            "                                                                 \n",
            " dropout_10 (Dropout)        (None, 64)                0         \n",
            "                                                                 \n",
            " dense_14 (Dense)            (None, 10)                650       \n",
            "                                                                 \n",
            "=================================================================\n",
            "Total params: 109386 (427.29 KB)\n",
            "Trainable params: 109386 (427.29 KB)\n",
            "Non-trainable params: 0 (0.00 Byte)\n",
            "_________________________________________________________________\n",
            "313/313 [==============================] - 1s 2ms/step\n"
          ]
        },
        {
          "output_type": "display_data",
          "data": {
            "text/plain": [
              "<Figure size 1200x400 with 3 Axes>"
            ],
            "image/png": "[encoded data removed]"
          },
          "metadata": {}
        },
        {
          "output_type": "stream",
          "name": "stdout",
          "text": [
            "Model: \"sequential_4\"\n",
            "_________________________________________________________________\n",
            " Layer (type)                Output Shape              Param #   \n",
            "=================================================================\n",
            " flatten_4 (Flatten)         (None, 784)               0         \n",
            "                                                                 \n",
            " dense_15 (Dense)            (None, 256)               200960    \n",
            "                                                                 \n",
            " dense_16 (Dense)            (None, 128)               32896     \n",
            "                                                                 \n",
            " dense_17 (Dense)            (None, 64)                8256      \n",
            "                                                                 \n",
            " dense_18 (Dense)            (None, 10)                650       \n",
            "                                                                 \n",
            "=================================================================\n",
            "Total params: 242762 (948.29 KB)\n",
            "Trainable params: 242762 (948.29 KB)\n",
            "Non-trainable params: 0 (0.00 Byte)\n",
            "_________________________________________________________________\n",
            "313/313 [==============================] - 1s 2ms/step\n"
          ]
        },
        {
          "output_type": "display_data",
          "data": {
            "text/plain": [
              "<Figure size 1200x400 with 3 Axes>"
            ],
            "image/png": "[encoded data removed]"
          },
          "metadata": {}
        },
        {
          "output_type": "stream",
          "name": "stdout",
          "text": [
            "Model: \"sequential_5\"\n",
            "_________________________________________________________________\n",
            " Layer (type)                Output Shape              Param #   \n",
            "=================================================================\n",
            " conv2d (Conv2D)             (None, 26, 26, 64)        640       \n",
            "                                                                 \n",
            " max_pooling2d (MaxPooling2  (None, 13, 13, 64)        0         \n",
            " D)                                                              \n",
            "                                                                 \n",
            " conv2d_1 (Conv2D)           (None, 11, 11, 64)        36928     \n",
            "                                                                 \n",
            " max_pooling2d_1 (MaxPoolin  (None, 5, 5, 64)          0         \n",
            " g2D)                                                            \n",
            "                                                                 \n",
            " flatten_5 (Flatten)         (None, 1600)              0         \n",
            "                                                                 \n",
            " dense_19 (Dense)            (None, 128)               204928    \n",
            "                                                                 \n",
            " dense_20 (Dense)            (None, 10)                1290      \n",
            "                                                                 \n",
            "=================================================================\n",
            "Total params: 243786 (952.29 KB)\n",
            "Trainable params: 243786 (952.29 KB)\n",
            "Non-trainable params: 0 (0.00 Byte)\n",
            "_________________________________________________________________\n",
            "313/313 [==============================] - 4s 13ms/step\n"
          ]
        },
        {
          "output_type": "display_data",
          "data": {
            "text/plain": [
              "<Figure size 1200x400 with 3 Axes>"
            ],
            "image/png": "[encoded data removed]"
          },
          "metadata": {}
        }
      ]
    },
    {
      "cell_type": "code",
      "source": [
        "\n",
        "test_accuracies = {\n",
        "    'Model3': 0.8888,\n",
        "    'Model4': 0.8744,\n",
        "    'Model5': 0.7807,\n",
        "    'Model6': 0.8895,\n",
        "    'Model7' : 0.8327 ,\n",
        "    'Model8' : 0.9024\n",
        "}\n",
        "validation_accuracies = {\n",
        "    'Model3': 0.8958,\n",
        "    'Model4': 0.8777,\n",
        "    'Model5': 0.7852,\n",
        "    'Model6': 0.8940,\n",
        "    'Model7' : 0.8393 ,\n",
        "    'Model8' : 0.9092\n",
        "}\n",
        "\n",
        "\n",
        "# Define labels, bar heights and positions\n",
        "labels = list(test_accuracies.keys())\n",
        "test_acc_values = list(test_accuracies.values())\n",
        "validation_acc_values = list(validation_accuracies.values())\n",
        "\n",
        "x = np.arange(len(labels))\n",
        "width = 0.35\n",
        "\n",
        "\n",
        "fig, ax = plt.subplots(figsize=(12, 8))\n",
        "rects1 = ax.bar(x - width/2, test_acc_values, width, label='Test', color='lightgreen')\n",
        "rects2 = ax.bar(x + width/2, validation_acc_values, width, label='Validation', color='dodgerblue')\n",
        "\n",
        "\n",
        "ax.set_xlabel('Models')\n",
        "ax.set_ylabel('Accuracy')\n",
        "ax.set_title('Comparison of Model Accuracies')\n",
        "ax.set_xticks(x)\n",
        "ax.set_xticklabels(labels)\n",
        "ax.legend(loc='lower right')  # Move legend to lower right\n",
        "\n",
        "\n",
        "ax.grid(True)\n",
        "\n",
        "# Function to add data labels\n",
        "def add_labels(rects):\n",
        "    for rect in rects:\n",
        "        height = rect.get_height()\n",
        "        ax.text(rect.get_x() + rect.get_width() / 2, height, round(height, 3),\n",
        "                ha='center', va='bottom')\n",
        "\n",
        "# Call function to add data labels\n",
        "add_labels(rects1)\n",
        "add_labels(rects2)\n",
        "\n",
        "fig.tight_layout()\n",
        "\n",
        "plt.show()\n"
      ],
      "metadata": {
        "colab": {
          "base_uri": "https://localhost:8080/",
          "height": 807
        },
        "id": "DLvDKK-T0G4d",
        "outputId": "e7334246-fcd9-4543-ff03-dbdf6a4af63c"
      },
      "execution_count": 31,
      "outputs": [
        {
          "output_type": "display_data",
          "data": {
            "text/plain": [
              "<Figure size 1200x800 with 1 Axes>"
            ],
            "image/png": "[encoded data removed]"
          },
          "metadata": {}
        }
      ]
    }
  ]
}